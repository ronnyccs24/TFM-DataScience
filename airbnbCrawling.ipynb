{
 "cells": [
  {
   "cell_type": "code",
   "execution_count": 1,
   "metadata": {
    "collapsed": true
   },
   "outputs": [],
   "source": [
    "__author__ = 'Ronny'"
   ]
  },
  {
   "cell_type": "code",
   "execution_count": null,
   "metadata": {
    "collapsed": true
   },
   "outputs": [],
   "source": [
    "from scrapy.item import Field, Item\n",
    "from scrapy.spiders import CrawlSpider, Rule\n",
    "from scrapy.linkextractors import LinkExtractor\n",
    "from scrapy.loader import ItemLoader\n",
    "from scrapy.loader.processors import MapCompose"
   ]
  },
  {
   "cell_type": "code",
   "execution_count": null,
   "metadata": {
    "collapsed": true
   },
   "outputs": [],
   "source": [
    "class AirbnbItem(Item):\n",
    "    tipo = Field()\n",
    "    capacidad = Field()"
   ]
  },
  {
   "cell_type": "code",
   "execution_count": null,
   "metadata": {
    "collapsed": true
   },
   "outputs": [],
   "source": [
    "class AirbnbCrawler(CrawSpider):\n",
    "    name = \"MiPrimerCrawler\"\n",
    "    start_urls = [\"https://www.airbnb.com\"]\n",
    "    allowed_domains = [\"airbnb.com\"]\n",
    "    \n",
    "    rules = {\n",
    "        Rule(LinkExtractor(allow=r'page=')),\n",
    "        Rule(LinkExtractor(allow=r'/rooms'), callback = 'parse_items'),\n",
    "    }\n",
    "    \n",
    "    def parse_item(self, response):\n",
    "        item = ItemLoader(AirbnbItem(), response)\n",
    "        item.add_xpath('tipo', '')\n",
    "        item.add_xpath('tipo', '')\n",
    "        yield item.load_item()"
   ]
  },
  {
   "cell_type": "code",
   "execution_count": null,
   "metadata": {
    "collapsed": true
   },
   "outputs": [],
   "source": [
    "#Con el siguiente comando, ejecuto mi spyder pero para probar que funciona bien, le voy a pedir que sólo me devuelva\n",
    "#20 elementos. Esto lo hacemos así también para evitar que AirBnB no bloquee nuestra IP\n",
    "! scrapy runspider airbnbCrawling.py -o data_scraped.csv -t csv --set CLOSESPIDER_ITEMCOUNT=20"
   ]
  }
 ],
 "metadata": {
  "kernelspec": {
   "display_name": "Python [default]",
   "language": "python",
   "name": "python2"
  },
  "language_info": {
   "codemirror_mode": {
    "name": "ipython",
    "version": 2
   },
   "file_extension": ".py",
   "mimetype": "text/x-python",
   "name": "python",
   "nbconvert_exporter": "python",
   "pygments_lexer": "ipython2",
   "version": "2.7.13"
  }
 },
 "nbformat": 4,
 "nbformat_minor": 2
}
